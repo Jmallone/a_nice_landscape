{
 "cells": [
  {
   "cell_type": "code",
   "execution_count": 1,
   "id": "a8be06ac",
   "metadata": {
    "scrolled": true
   },
   "outputs": [
    {
     "name": "stdout",
     "output_type": "stream",
     "text": [
      "Defaulting to user installation because normal site-packages is not writeable\n",
      "Requirement already satisfied: tweepy in /home/jmallone/.local/lib/python3.9/site-packages (4.10.0)\n",
      "Requirement already satisfied: requests<3,>=2.27.0 in /home/jmallone/.local/lib/python3.9/site-packages (from tweepy) (2.28.1)\n",
      "Requirement already satisfied: oauthlib<4,>=3.2.0 in /home/jmallone/.local/lib/python3.9/site-packages (from tweepy) (3.2.0)\n",
      "Requirement already satisfied: requests-oauthlib<2,>=1.2.0 in /home/jmallone/.local/lib/python3.9/site-packages (from tweepy) (1.3.1)\n",
      "Requirement already satisfied: charset-normalizer<3,>=2 in /home/jmallone/.local/lib/python3.9/site-packages (from requests<3,>=2.27.0->tweepy) (2.1.0)\n",
      "Requirement already satisfied: idna<4,>=2.5 in /home/jmallone/.local/lib/python3.9/site-packages (from requests<3,>=2.27.0->tweepy) (2.8)\n",
      "Requirement already satisfied: urllib3<1.27,>=1.21.1 in /home/jmallone/.local/lib/python3.9/site-packages (from requests<3,>=2.27.0->tweepy) (1.26.12)\n",
      "Requirement already satisfied: certifi>=2017.4.17 in /home/jmallone/.local/lib/python3.9/site-packages (from requests<3,>=2.27.0->tweepy) (2022.9.24)\n",
      "--- Logging error ---\n",
      "Traceback (most recent call last):\n",
      "  File \"/home/jmallone/.local/lib/python3.9/site-packages/pip/_internal/utils/logging.py\", line 177, in emit\n",
      "    self.console.print(renderable, overflow=\"ignore\", crop=False, style=style)\n",
      "  File \"/home/jmallone/.local/lib/python3.9/site-packages/pip/_vendor/rich/console.py\", line 1752, in print\n",
      "    extend(render(renderable, render_options))\n",
      "  File \"/home/jmallone/.local/lib/python3.9/site-packages/pip/_vendor/rich/console.py\", line 1390, in render\n",
      "    for render_output in iter_render:\n",
      "  File \"/home/jmallone/.local/lib/python3.9/site-packages/pip/_internal/utils/logging.py\", line 134, in __rich_console__\n",
      "    for line in lines:\n",
      "  File \"/home/jmallone/.local/lib/python3.9/site-packages/pip/_vendor/rich/segment.py\", line 245, in split_lines\n",
      "    for segment in segments:\n",
      "  File \"/home/jmallone/.local/lib/python3.9/site-packages/pip/_vendor/rich/console.py\", line 1368, in render\n",
      "    renderable = rich_cast(renderable)\n",
      "  File \"/home/jmallone/.local/lib/python3.9/site-packages/pip/_vendor/rich/protocol.py\", line 36, in rich_cast\n",
      "    renderable = cast_method()\n",
      "  File \"/home/jmallone/.local/lib/python3.9/site-packages/pip/_internal/self_outdated_check.py\", line 130, in __rich__\n",
      "    pip_cmd = get_best_invocation_for_this_pip()\n",
      "  File \"/home/jmallone/.local/lib/python3.9/site-packages/pip/_internal/utils/entrypoints.py\", line 58, in get_best_invocation_for_this_pip\n",
      "    if found_executable and os.path.samefile(\n",
      "  File \"/usr/lib/python3.9/genericpath.py\", line 101, in samefile\n",
      "    s2 = os.stat(f2)\n",
      "FileNotFoundError: [Errno 2] Arquivo ou diretório inexistente: '/usr/bin/pip3.9'\n",
      "Call stack:\n",
      "  File \"/usr/lib/python3.9/runpy.py\", line 197, in _run_module_as_main\n",
      "    return _run_code(code, main_globals, None,\n",
      "  File \"/usr/lib/python3.9/runpy.py\", line 87, in _run_code\n",
      "    exec(code, run_globals)\n",
      "  File \"/home/jmallone/.local/lib/python3.9/site-packages/pip/__main__.py\", line 31, in <module>\n",
      "    sys.exit(_main())\n",
      "  File \"/home/jmallone/.local/lib/python3.9/site-packages/pip/_internal/cli/main.py\", line 70, in main\n",
      "    return command.main(cmd_args)\n",
      "  File \"/home/jmallone/.local/lib/python3.9/site-packages/pip/_internal/cli/base_command.py\", line 101, in main\n",
      "    return self._main(args)\n",
      "  File \"/home/jmallone/.local/lib/python3.9/site-packages/pip/_internal/cli/base_command.py\", line 223, in _main\n",
      "    self.handle_pip_version_check(options)\n",
      "  File \"/home/jmallone/.local/lib/python3.9/site-packages/pip/_internal/cli/req_command.py\", line 148, in handle_pip_version_check\n",
      "    pip_self_version_check(session, options)\n",
      "  File \"/home/jmallone/.local/lib/python3.9/site-packages/pip/_internal/self_outdated_check.py\", line 237, in pip_self_version_check\n",
      "    logger.info(\"[present-rich] %s\", upgrade_prompt)\n",
      "  File \"/usr/lib/python3.9/logging/__init__.py\", line 1442, in info\n",
      "    self._log(INFO, msg, args, **kwargs)\n",
      "  File \"/usr/lib/python3.9/logging/__init__.py\", line 1585, in _log\n",
      "    self.handle(record)\n",
      "  File \"/usr/lib/python3.9/logging/__init__.py\", line 1595, in handle\n",
      "    self.callHandlers(record)\n",
      "  File \"/usr/lib/python3.9/logging/__init__.py\", line 1657, in callHandlers\n",
      "    hdlr.handle(record)\n",
      "  File \"/usr/lib/python3.9/logging/__init__.py\", line 948, in handle\n",
      "    self.emit(record)\n",
      "  File \"/home/jmallone/.local/lib/python3.9/site-packages/pip/_internal/utils/logging.py\", line 179, in emit\n",
      "    self.handleError(record)\n",
      "Message: '[present-rich] %s'\n",
      "Arguments: (UpgradePrompt(old='22.1.2', new='22.3.1'),)\n",
      "Note: you may need to restart the kernel to use updated packages.\n"
     ]
    }
   ],
   "source": [
    "pip install tweepy"
   ]
  },
  {
   "cell_type": "code",
   "execution_count": 9,
   "id": "2722f649",
   "metadata": {},
   "outputs": [
    {
     "name": "stdout",
     "output_type": "stream",
     "text": [
      "Defaulting to user installation because normal site-packages is not writeable\n",
      "Collecting moviepy\n",
      "  Using cached moviepy-1.0.3-py3-none-any.whl\n",
      "Collecting proglog<=1.0.0\n",
      "  Using cached proglog-0.1.10-py3-none-any.whl (6.1 kB)\n",
      "Collecting imageio-ffmpeg>=0.2.0\n",
      "  Using cached imageio_ffmpeg-0.4.7-py3-none-manylinux2010_x86_64.whl (26.9 MB)\n",
      "Requirement already satisfied: tqdm<5.0,>=4.11.2 in /home/jmallone/.local/lib/python3.9/site-packages (from moviepy) (4.64.0)\n",
      "Requirement already satisfied: numpy in /home/jmallone/.local/lib/python3.9/site-packages (from moviepy) (1.23.2)\n",
      "Collecting imageio<3.0,>=2.5\n",
      "  Downloading imageio-2.23.0-py3-none-any.whl (3.4 MB)\n",
      "\u001b[2K     \u001b[38;2;114;156;31m━━━━━━━━━━━━━━━━━━━━━━━━━━━━━━━━━━━━━━━━\u001b[0m \u001b[32m3.4/3.4 MB\u001b[0m \u001b[31m4.1 MB/s\u001b[0m eta \u001b[36m0:00:00\u001b[0mm eta \u001b[36m0:00:01\u001b[0m0:01\u001b[0m:01\u001b[0m\n",
      "\u001b[?25hRequirement already satisfied: requests<3.0,>=2.8.1 in /home/jmallone/.local/lib/python3.9/site-packages (from moviepy) (2.28.1)\n",
      "Collecting decorator<5.0,>=4.0.2\n",
      "  Using cached decorator-4.4.2-py2.py3-none-any.whl (9.2 kB)\n",
      "Requirement already satisfied: pillow>=8.3.2 in /home/jmallone/.local/lib/python3.9/site-packages (from imageio<3.0,>=2.5->moviepy) (9.2.0)\n",
      "Requirement already satisfied: urllib3<1.27,>=1.21.1 in /home/jmallone/.local/lib/python3.9/site-packages (from requests<3.0,>=2.8.1->moviepy) (1.26.12)\n",
      "Requirement already satisfied: charset-normalizer<3,>=2 in /home/jmallone/.local/lib/python3.9/site-packages (from requests<3.0,>=2.8.1->moviepy) (2.1.0)\n",
      "Requirement already satisfied: certifi>=2017.4.17 in /home/jmallone/.local/lib/python3.9/site-packages (from requests<3.0,>=2.8.1->moviepy) (2022.9.24)\n",
      "Requirement already satisfied: idna<4,>=2.5 in /home/jmallone/.local/lib/python3.9/site-packages (from requests<3.0,>=2.8.1->moviepy) (2.8)\n",
      "Installing collected packages: proglog, imageio-ffmpeg, imageio, decorator, moviepy\n",
      "  Attempting uninstall: decorator\n",
      "    Found existing installation: decorator 5.1.1\n",
      "    Uninstalling decorator-5.1.1:\n",
      "      Successfully uninstalled decorator-5.1.1\n",
      "Successfully installed decorator-4.4.2 imageio-2.23.0 imageio-ffmpeg-0.4.7 moviepy-1.0.3 proglog-0.1.10\n",
      "--- Logging error ---\n",
      "Traceback (most recent call last):\n",
      "  File \"/home/jmallone/.local/lib/python3.9/site-packages/pip/_internal/utils/logging.py\", line 177, in emit\n",
      "    self.console.print(renderable, overflow=\"ignore\", crop=False, style=style)\n",
      "  File \"/home/jmallone/.local/lib/python3.9/site-packages/pip/_vendor/rich/console.py\", line 1752, in print\n",
      "    extend(render(renderable, render_options))\n",
      "  File \"/home/jmallone/.local/lib/python3.9/site-packages/pip/_vendor/rich/console.py\", line 1390, in render\n",
      "    for render_output in iter_render:\n",
      "  File \"/home/jmallone/.local/lib/python3.9/site-packages/pip/_internal/utils/logging.py\", line 134, in __rich_console__\n",
      "    for line in lines:\n",
      "  File \"/home/jmallone/.local/lib/python3.9/site-packages/pip/_vendor/rich/segment.py\", line 245, in split_lines\n",
      "    for segment in segments:\n",
      "  File \"/home/jmallone/.local/lib/python3.9/site-packages/pip/_vendor/rich/console.py\", line 1368, in render\n",
      "    renderable = rich_cast(renderable)\n",
      "  File \"/home/jmallone/.local/lib/python3.9/site-packages/pip/_vendor/rich/protocol.py\", line 36, in rich_cast\n",
      "    renderable = cast_method()\n",
      "  File \"/home/jmallone/.local/lib/python3.9/site-packages/pip/_internal/self_outdated_check.py\", line 130, in __rich__\n",
      "    pip_cmd = get_best_invocation_for_this_pip()\n",
      "  File \"/home/jmallone/.local/lib/python3.9/site-packages/pip/_internal/utils/entrypoints.py\", line 58, in get_best_invocation_for_this_pip\n",
      "    if found_executable and os.path.samefile(\n",
      "  File \"/usr/lib/python3.9/genericpath.py\", line 101, in samefile\n",
      "    s2 = os.stat(f2)\n",
      "FileNotFoundError: [Errno 2] Arquivo ou diretório inexistente: '/usr/bin/pip3.9'\n",
      "Call stack:\n",
      "  File \"/usr/lib/python3.9/runpy.py\", line 197, in _run_module_as_main\n",
      "    return _run_code(code, main_globals, None,\n",
      "  File \"/usr/lib/python3.9/runpy.py\", line 87, in _run_code\n",
      "    exec(code, run_globals)\n",
      "  File \"/home/jmallone/.local/lib/python3.9/site-packages/pip/__main__.py\", line 31, in <module>\n",
      "    sys.exit(_main())\n",
      "  File \"/home/jmallone/.local/lib/python3.9/site-packages/pip/_internal/cli/main.py\", line 70, in main\n",
      "    return command.main(cmd_args)\n",
      "  File \"/home/jmallone/.local/lib/python3.9/site-packages/pip/_internal/cli/base_command.py\", line 101, in main\n",
      "    return self._main(args)\n",
      "  File \"/home/jmallone/.local/lib/python3.9/site-packages/pip/_internal/cli/base_command.py\", line 223, in _main\n",
      "    self.handle_pip_version_check(options)\n",
      "  File \"/home/jmallone/.local/lib/python3.9/site-packages/pip/_internal/cli/req_command.py\", line 148, in handle_pip_version_check\n",
      "    pip_self_version_check(session, options)\n",
      "  File \"/home/jmallone/.local/lib/python3.9/site-packages/pip/_internal/self_outdated_check.py\", line 237, in pip_self_version_check\n",
      "    logger.info(\"[present-rich] %s\", upgrade_prompt)\n",
      "  File \"/usr/lib/python3.9/logging/__init__.py\", line 1442, in info\n",
      "    self._log(INFO, msg, args, **kwargs)\n",
      "  File \"/usr/lib/python3.9/logging/__init__.py\", line 1585, in _log\n",
      "    self.handle(record)\n",
      "  File \"/usr/lib/python3.9/logging/__init__.py\", line 1595, in handle\n",
      "    self.callHandlers(record)\n",
      "  File \"/usr/lib/python3.9/logging/__init__.py\", line 1657, in callHandlers\n",
      "    hdlr.handle(record)\n",
      "  File \"/usr/lib/python3.9/logging/__init__.py\", line 948, in handle\n",
      "    self.emit(record)\n",
      "  File \"/home/jmallone/.local/lib/python3.9/site-packages/pip/_internal/utils/logging.py\", line 179, in emit\n",
      "    self.handleError(record)\n",
      "Message: '[present-rich] %s'\n",
      "Arguments: (UpgradePrompt(old='22.1.2', new='22.3.1'),)\n",
      "Note: you may need to restart the kernel to use updated packages.\n"
     ]
    }
   ],
   "source": [
    "pip install moviepy"
   ]
  },
  {
   "cell_type": "code",
   "execution_count": 2,
   "id": "ce6191f5",
   "metadata": {},
   "outputs": [],
   "source": [
    "import tweepy"
   ]
  },
  {
   "cell_type": "code",
   "execution_count": 3,
   "id": "0e648608",
   "metadata": {},
   "outputs": [],
   "source": [
    "consumer_key = ''\n",
    "consumer_secret = ''\n",
    "access_token = ''\n",
    "access_token_secret = ''\n",
    "\n",
    "# Autentique-se na API do Twitter\n",
    "auth = tweepy.OAuth1UserHandler(\n",
    "    consumer_key,\n",
    "    consumer_secret,\n",
    "    access_token,\n",
    "    access_token_secret\n",
    ")\n"
   ]
  },
  {
   "cell_type": "code",
   "execution_count": 4,
   "id": "3b525575",
   "metadata": {},
   "outputs": [],
   "source": [
    "api = tweepy.API(auth)"
   ]
  },
  {
   "cell_type": "code",
   "execution_count": null,
   "id": "0536a51e",
   "metadata": {},
   "outputs": [],
   "source": []
  },
  {
   "cell_type": "code",
   "execution_count": 5,
   "id": "bf60378a",
   "metadata": {},
   "outputs": [],
   "source": [
    "# Nome de usuário do perfil do Twitter cujas fotos deseja baixar\n",
    "username = 'LandscapeNice'\n",
    "\n",
    "# Obtenha o usuário pelo nome de usuário\n",
    "user = api.get_user(screen_name=username)"
   ]
  },
  {
   "cell_type": "code",
   "execution_count": 6,
   "id": "c9b992e6",
   "metadata": {},
   "outputs": [],
   "source": [
    "# Obtenha todos os tweets do usuário\n",
    "#tweets = api.user_timeline(screen_name=username, count=2400)"
   ]
  },
  {
   "cell_type": "code",
   "execution_count": 7,
   "id": "14308d73",
   "metadata": {},
   "outputs": [
    {
     "name": "stdout",
     "output_type": "stream",
     "text": [
      "2407\n"
     ]
    }
   ],
   "source": [
    "# Obtenha os tweets do usuário\n",
    "tweets = []\n",
    "max_id = None\n",
    "while True:\n",
    "  new_tweets = api.user_timeline(screen_name=username, count=200, max_id=max_id, include_rts=True)\n",
    "  if not new_tweets:\n",
    "    break\n",
    "  tweets += new_tweets\n",
    "  max_id = new_tweets[-1].id - 1\n",
    "\n",
    "\n",
    "print(len(tweets))"
   ]
  },
  {
   "cell_type": "code",
   "execution_count": 8,
   "id": "f632e104",
   "metadata": {},
   "outputs": [],
   "source": [
    "import requests\n",
    "\n",
    "\n",
    "for tweet in tweets:\n",
    "  for media in tweet.entities.get('media', [{}]):\n",
    "    if media.get('type', None) == 'photo':\n",
    "      # Baixe a imagem\n",
    "      response = requests.get(media['media_url'])\n",
    "      open(f\"{media['id']}.jpg\", \"wb\").write(response.content)\n"
   ]
  },
  {
   "cell_type": "code",
   "execution_count": 9,
   "id": "3a62dfcf",
   "metadata": {},
   "outputs": [],
   "source": [
    "import glob\n",
    "from moviepy.editor import ImageSequenceClip"
   ]
  },
  {
   "cell_type": "code",
   "execution_count": 10,
   "id": "6fb38e9f",
   "metadata": {},
   "outputs": [],
   "source": [
    "\n",
    "# Caminho para as imagens\n",
    "image_path = '*.jpg'\n",
    "\n",
    "image_list = glob.glob(image_path)"
   ]
  },
  {
   "cell_type": "code",
   "execution_count": 18,
   "id": "05f6094c",
   "metadata": {},
   "outputs": [
    {
     "name": "stdout",
     "output_type": "stream",
     "text": [
      "['1609973556527640576.jpg', '1609943358662901761.jpg', '1609913159145648129.jpg', '1609882960249094144.jpg', '1609852760681512960.jpg', '1609822562703532032.jpg', '1609792363152703488.jpg', '1609762167439646722.jpg', '1609731967859429376.jpg', '1609701768564469760.jpg', '1609671569516924929.jpg', '1609641367873150977.jpg', '1609611168670416896.jpg', '1609580971787177984.jpg', '1609550773628854272.jpg', '1609520571301388288.jpg', '1609490374984347648.jpg', '1609460176888946688.jpg', '1609429977153572866.jpg', '1609399778705801216.jpg', '1609369579419230208.jpg', '1609339381206376448.jpg', '1609309180581801991.jpg', '1609278981794328576.jpg', '1609248780309925888.jpg', '1609218585377017858.jpg', '1609188382646890498.jpg', '1609158183561625605.jpg', '1609127984912556037.jpg', '1609097786125090822.jpg', '1609067588147085318.jpg', '1609037388877279232.jpg', '1609007189636837377.jpg', '1608976990182465536.jpg', '1608946794310029312.jpg', '1608916595044405249.jpg', '1608886395925598208.jpg', '1608856196861263878.jpg', '1608825996643532805.jpg', '1608795794928472068.jpg', '1608765599320276992.jpg', '1608735397198299139.jpg', '1608705198767366145.jpg', '1608674999484960770.jpg', '1608644802685571074.jpg', '1608614604070096899.jpg', '1608584404926070786.jpg', '1608554205496901632.jpg', '1608524006348689408.jpg', '1608493808014225408.jpg', '1608463608538886144.jpg', '1608433409361317889.jpg', '1608403211513393153.jpg', '1608373011190788097.jpg', '1608342812533354497.jpg', '1608312614517637120.jpg', '1608282416594161664.jpg', '1608252215072002049.jpg', '1608222016766889984.jpg', '1608191816729526274.jpg', '1608161616826363904.jpg', '1608131420433838082.jpg', '1608101219687608322.jpg', '1608071023269941254.jpg', '1608040823656189952.jpg', '1608010622645702656.jpg', '1607980425665974278.jpg', '1607950225863507971.jpg', '1607920025020829697.jpg', '1607889828884148226.jpg', '1607859627869495296.jpg', '1607829431032348672.jpg', '1607799230852399104.jpg', '1607769030269730816.jpg', '1607738833260662786.jpg', '1607708632048865280.jpg', '1607678435748646912.jpg', '1607648234813689857.jpg', '1607618038798618625.jpg', '1607587838060818435.jpg', '1607557638111522817.jpg', '1607527440783642624.jpg', '1607497240326844421.jpg', '1607467044005609472.jpg', '1607436843737579527.jpg', '1607406643092017152.jpg', '1607376446691102721.jpg', '1607346251057565698.jpg', '1607316045576155136.jpg', '1607285849670189063.jpg', '1607255648466788354.jpg', '1607225448043511815.jpg', '1607195250157850624.jpg', '1607165054163750913.jpg', '1607134853023289346.jpg', '1607104654810439680.jpg', '1607074454986981378.jpg', '1607044254282706945.jpg', '1607014058250883073.jpg', '1606983857487896577.jpg', '1606953657437945856.jpg', '1606923461456441351.jpg', '1606893260018176004.jpg', '1606863063768260608.jpg', '1606832863516979202.jpg', '1606802663253110784.jpg', '1606772465128337409.jpg', '1606742267599163392.jpg', '1606712065867276288.jpg', '1606681868560400385.jpg', '1606651669118214144.jpg', '1606621469898772480.jpg', '1606591270729568257.jpg', '1606561070822223873.jpg', '1606530874001870848.jpg', '1606500674933383168.jpg', '1606470475667816450.jpg', '1606440276788015104.jpg', '1606410077040058368.jpg', '1606379878126714880.jpg', '1606349678915686401.jpg', '1606319478538506240.jpg', '1606289279356764160.jpg', '1606259080145707010.jpg', '1606228883526647809.jpg', '1606198684705660928.jpg', '1606168486497046528.jpg', '1606138287965343744.jpg', '1606108088603328512.jpg', '1606077889425702913.jpg', '1606047689581285376.jpg', '1606017489954951168.jpg', '1605987290827718657.jpg', '1605957091570593794.jpg', '1605926891265085441.jpg', '1605896695870459905.jpg', '1605866492653731840.jpg', '1605836294143111168.jpg', '1605806098325262338.jpg', '1605775899026026496.jpg', '1605745698418266112.jpg', '1605715498577956865.jpg', '1605685299408822273.jpg', '1605655103926460416.jpg', '1605624904304377856.jpg', '1605594705160392706.jpg', '1605564505286930432.jpg', '1605534305769246725.jpg', '1605504107120164864.jpg', '1605473907829415936.jpg', '1605443707318063104.jpg', '1605413512175460352.jpg', '1605383312876310528.jpg', '1605353113304457217.jpg', '1605322913510395904.jpg', '1605292714181857280.jpg', '1605262514270670848.jpg', '1605232316988526593.jpg', '1605202116792184834.jpg', '1605171917748461569.jpg', '1605141718138920960.jpg', '1605111518604890112.jpg', '1605081323583901696.jpg', '1605051124267880448.jpg', '1605020924540919810.jpg', '1604990725153689601.jpg', '1604960525326000128.jpg', '1604930326400102402.jpg', '1604900127558144001.jpg', '1604869928560906240.jpg', '1604839730012573696.jpg', '1604809530902073346.jpg', '1604779331946917888.jpg', '1604749132286939136.jpg', '1604718931398180864.jpg', '1604688732593852417.jpg', '1604658534158700544.jpg', '1604628334956097536.jpg', '1604598135640055810.jpg', '1604567937330708480.jpg', '1604537738333605889.jpg', '1604507538908622850.jpg', '1604477343547871235.jpg', '1604447144051585024.jpg', '1604416944685215744.jpg', '1604386746384252931.jpg', '1604356546355306497.jpg', '1604326347186192385.jpg', '1604296147706597377.jpg', '1604265947824795648.jpg', '1604235750408454144.jpg', '1604205551256104961.jpg', '1604175352170811393.jpg', '1604145152494555137.jpg', '1604114952779808768.jpg', '1604084753698738176.jpg', '1604054554898681856.jpg', '1604024356467642368.jpg', '1603994156954578944.jpg', '1603963957907054593.jpg', '1603933758180118528.jpg', '1603903562026606592.jpg', '1603873362878468097.jpg', '1603843162144792576.jpg', '1603812962505936896.jpg', '1603782762955124737.jpg', '1603752563974627329.jpg', '1603722369003950080.jpg', '1603692169700573189.jpg', '1603661970451812352.jpg', '1603631770515124224.jpg', '1603601570817417216.jpg', '1603571372440985602.jpg', '1603541171136929793.jpg', '1603510972013957120.jpg', '1603480776552591360.jpg', '1603450575290478592.jpg', '1603420375605399552.jpg', '1603390179770761217.jpg', '1603359980563726336.jpg', '1603329781684002817.jpg', '1603299582078615552.jpg', '1603269383152840704.jpg', '1603239184155561984.jpg', '1603208983086436352.jpg', '1603178783900545024.jpg', '1603148587944226816.jpg', '1603118388766572544.jpg', '1603088189542916096.jpg', '1603057989849866242.jpg', '1603027789791125506.jpg', '1602997590844329984.jpg', '1602967393436737536.jpg', '1602937194120769536.jpg', '1602906994213470209.jpg', '1602876794381574144.jpg', '1602846594834931712.jpg', '1602816398094266369.jpg', '1602786197549436928.jpg', '1602755999017750529.jpg', '1602725799861239808.jpg', '1602695600704585729.jpg', '1602665401422209027.jpg', '1602635202156634112.jpg', '1602605003088138240.jpg', '1602574805047267328.jpg', '1602544604506488832.jpg', '1602514409519124480.jpg', '1602484210198990848.jpg', '1602454011134693376.jpg', '1602423811848085504.jpg', '1602393612829892608.jpg', '1602363413799178240.jpg', '1602333214491627521.jpg', '1602303013405671424.jpg', '1602272814098108416.jpg', '1602242616820568065.jpg', '1602212417634639872.jpg', '1602182217295282176.jpg', '1602152017928941568.jpg', '1602121818734673921.jpg', '1602091621096398848.jpg', '1602061421025427456.jpg', '1602031225270456321.jpg', '1602001025589616645.jpg', '1601970825787154433.jpg', '1601940626190192641.jpg', '1601910427172020224.jpg', '1601880227960918016.jpg', '1601850029127262210.jpg', '1601819829635231744.jpg', '1601789630109560832.jpg', '1601759431158439936.jpg', '1601729232182210560.jpg', '1601699036678877184.jpg', '1601668833730666497.jpg', '1601638634813198336.jpg', '1601608438684913664.jpg', '1601578239733833729.jpg', '1601548040086528001.jpg', '1601517840527343617.jpg', '1601487639785328641.jpg', '1601457443694706688.jpg', '1601427244504662016.jpg', '1601397044962201600.jpg', '1601366845759442944.jpg', '1601336645994758145.jpg', '1601306447022723072.jpg', '1601276247803195392.jpg', '1601246048990552064.jpg', '1601215849909534726.jpg', '1601185652929744896.jpg', '1601155453886480384.jpg', '1601125254775984128.jpg', '1601095057041342464.jpg', '1601064857821802496.jpg', '1601034658610786304.jpg', '1601004459164766211.jpg', '1600974259353837569.jpg', '1600944060360929281.jpg', '1600913861346893824.jpg', '1600883660453912576.jpg', '1600853464812331011.jpg', '1600823261708709889.jpg', '1600793062929670149.jpg', '1600762864133820416.jpg', '1600732667678380034.jpg', '1600702467569700867.jpg', '1600672268497010688.jpg', '1600642069294243841.jpg', '1600611872054484992.jpg', '1600581673032114176.jpg', '1600551473779089408.jpg', '1600521272433070080.jpg', '1600491076187365376.jpg', '1600460877173469184.jpg', '1600430677895192576.jpg', '1600400478151417856.jpg', '1600370278923526145.jpg', '1600340079745986560.jpg', '1600309880543334400.jpg', '1600279681328029697.jpg', '1600249481273827328.jpg', '1600219286345129985.jpg', '1600189087213752320.jpg', '1600158888061378561.jpg', '1600128688862859265.jpg', '1600098489765007360.jpg', '1600068290906161153.jpg', '1600038091984539648.jpg', '1600007890571448320.jpg', '1599977691314167808.jpg', '1599947491671097344.jpg', '1599917292531331072.jpg', '1599887093471145985.jpg', '1599856898219528192.jpg', '1599826699146825730.jpg', '1599796498832584705.jpg', '1599766298379964417.jpg', '1599736099332493314.jpg', '1599705900180119552.jpg', '1599675701136789506.jpg', '1599645504861659136.jpg', '1599615305264701440.jpg', '1599585105848082432.jpg', '1599554906624434176.jpg', '1599524707480412160.jpg', '1599494508646846464.jpg', '1599464309628620801.jpg', '1599434110824378368.jpg', '1599403912120791040.jpg', '1599373712746196992.jpg', '1599343513396576257.jpg', '1599313312784650240.jpg', '1599283116496994304.jpg', '1599252916795121664.jpg', '1599222717177155584.jpg', '1599192517282451456.jpg', '1599162319912677376.jpg', '1599132119606784001.jpg', '1599101920467046401.jpg', '1599071724170928128.jpg', '1599041525324709893.jpg', '1599011325807452161.jpg', '1598981126843817984.jpg', '1598950927787884545.jpg', '1598920728006443008.jpg', '1598890528749150208.jpg', '1598860329638776832.jpg', '1598830130024980480.jpg', '1598799933594746881.jpg', '1598769734622711808.jpg', '1598739535881326592.jpg', '1598709336502517762.jpg', '1598679135450038274.jpg', '1598648936675233796.jpg', '1598618737271136257.jpg', '1598588538232049665.jpg', '1598558341051035648.jpg', '1598528141278023681.jpg', '1598497940078665728.jpg', '1598467743233081344.jpg', '1598437543728451586.jpg', '1598407344639000577.jpg', '1598377145960570880.jpg', '1598346947521171456.jpg', '1598316748910088194.jpg', '1598286549900140544.jpg', '1598256350760353792.jpg', '1598226151352115201.jpg', '1598195953936130048.jpg', '1598165754808913920.jpg', '1598135555618840576.jpg', '1598105356432834560.jpg', '1598075156202594304.jpg', '1598044957230497792.jpg', '1598014758367551488.jpg', '1597984558816731137.jpg', '1597954362168422401.jpg', '1597924163301232641.jpg', '1597893964064882688.jpg', '1597863764539232256.jpg', '1597833563843440640.jpg', '1597803364791656448.jpg', '1597773165475729409.jpg', '1597742966218506240.jpg', '1597712766298517504.jpg', '1597682571202088961.jpg', '1597652371403776000.jpg', '1597622171337388033.jpg', '1597591971614203907.jpg', '1597561775121047552.jpg', '1597531576002236416.jpg', '1597501372882046976.jpg', '1597471177047359488.jpg', '1597440977118982144.jpg', '1597410777874325504.jpg', '1597380578734579712.jpg', '1597350378705592320.jpg', '1597320183277764608.jpg', '1597289984330936322.jpg', '1597259785094602752.jpg', '1597229585002733568.jpg', '1597199385867132928.jpg', '1597169186928676864.jpg', '1597138987348504576.jpg', '1597108788141563904.jpg', '1597078588854968320.jpg', '1597048389341831168.jpg', '1597018190218862592.jpg', '1596987994480594944.jpg', '1596957793197576192.jpg', '1596927593680289792.jpg', '1596897394578182144.jpg', '1596867194737999872.jpg', '1596836999406661632.jpg', '1596806798794596352.jpg', '1596776599487062017.jpg', '1596746399080534017.jpg', '1596716199601004544.jpg', '1596686004642947072.jpg', '1596655804387426306.jpg', '1596625605381890049.jpg', '1596595406309187585.jpg', '1596565207223894024.jpg', '1596535006192873472.jpg', '1596504810592694272.jpg', '1596474610068750336.jpg', '1596444410996137984.jpg', '1596414212040818688.jpg', '1596384011785408513.jpg', '1596353812511412225.jpg', '1596323613216452609.jpg', '1596293413841690624.jpg', '1596263218208419840.jpg', '1596233019131449344.jpg', '1596202819953967105.jpg', '1596172620755369984.jpg', '1596142421644976130.jpg', '1596112222614212608.jpg', '1596082023822610433.jpg', '1596051825945608192.jpg', '1596021624972578817.jpg', '1595991424448593920.jpg', '1595961224826454017.jpg', '1595931029205753856.jpg', '1595900828442763264.jpg', '1595870631601401856.jpg', '1595840432520384512.jpg', '1595810233678299136.jpg', '1595780034551087104.jpg', '1595749834224377856.jpg', '1595719634505777153.jpg', '1595689435529478144.jpg', '1595659235316011008.jpg', '1595629036020981761.jpg', '1595598840593162240.jpg', '1595568641784758273.jpg', '1595538441638359041.jpg', '1595508242024517632.jpg', '1595478044902191105.jpg', '1595447845313658881.jpg', '1595417646148616195.jpg', '1595387446329425920.jpg', '1595357247118315520.jpg', '1595327047986868225.jpg', '1595296847685246976.jpg', '1595266648243478529.jpg', '1595236453180506121.jpg', '1595206253822676993.jpg', '1595176053252624384.jpg', '1595145854112780288.jpg', '1595115653181997057.jpg', '1595085458047832065.jpg', '1595055259302301697.jpg', '1595025058593841152.jpg', '1594994858715799552.jpg', '1594964658695176193.jpg', '1594934461136662528.jpg', '1594904261820698628.jpg', '1594874062429294593.jpg', '1594843865718042624.jpg', '1594813665756094465.jpg', '1594783466209492992.jpg', '1594753266985771009.jpg', '1594723067023880192.jpg', '1594692867758313473.jpg', '1594662668521984000.jpg', '1594632473375186944.jpg', '1594602273828614145.jpg', '1594572073891872768.jpg', '1594541874735288321.jpg', '1594511675171909633.jpg', '1594481476120104960.jpg', '1594451276036993024.jpg', '1594421080286187520.jpg', '1594390879212433408.jpg', '1594360680106274816.jpg', '1594330481289412608.jpg', '1594300282145452032.jpg', '1594270086495363073.jpg', '1594239886340415490.jpg', '1594209686240186368.jpg', '1594179487142330370.jpg', '1594149287675322370.jpg', '1594119087923175424.jpg', '1594088891006341122.jpg', '1594058690155360257.jpg', '1594028490310885377.jpg', '1593998293528215552.jpg', '1593968094073917440.jpg', '1593937895114489857.jpg', '1593907694221467648.jpg', '1593877495027093506.jpg', '1593847298965897218.jpg', '1593817099012476929.jpg', '1593786899239297024.jpg', '1593756699310972929.jpg', '1593726503140831232.jpg', '1593696303866781697.jpg', '1593666104844427264.jpg', '1593635905696210945.jpg', '1593605706166386688.jpg', '1593575506791628801.jpg', '1593545307215736833.jpg', '1593515112429658113.jpg', '1593484910332809216.jpg', '1593454710375084034.jpg', '1593424510866161664.jpg', '1593394311395098625.jpg', '1593364118681042948.jpg', '1593333915174899712.jpg', '1593303715791765504.jpg', '1593273516505194496.jpg', '1593243316946018305.jpg', '1593213120184393728.jpg', '1593182920469934080.jpg', '1593152721535672321.jpg', '1593122523201183744.jpg', '1593092323918761985.jpg', '1593062124284018688.jpg', '1593031924997533696.jpg', '1593001724456812545.jpg', '1592971524885008385.jpg', '1592941328177905664.jpg', '1592911128983576576.jpg', '1592880932037353473.jpg', '1592850731400253442.jpg', '1592820533069959168.jpg', '1592790333984677888.jpg', '1592760134282772480.jpg', '1592729935105253376.jpg', '1592699735780970496.jpg', '1592669535974277120.jpg', '1592639339325898753.jpg', '1592609139548512257.jpg', '1592578940337463296.jpg', '1592548740493062150.jpg', '1592518540925358080.jpg', '1592488341726908418.jpg', '1592458145980260352.jpg', '1592427946819526656.jpg', '1592397746681499650.jpg', '1592367546899931136.jpg', '1592337347051339778.jpg', '1592307149736026112.jpg', '1592276948998160384.jpg', '1592246753604116482.jpg', '1592216552593506304.jpg', '1592186351780212738.jpg', '1592156152644575232.jpg', '1592125953513177091.jpg', '1592095758165020672.jpg', '1592065558723190784.jpg', '1592035357117149184.jpg', '1592005157822246912.jpg', '1591974961953927169.jpg', '1591944762138861569.jpg', '1591914563343040513.jpg', '1591884361686691841.jpg', '1591854162542632961.jpg', '1591823965118341122.jpg', '1591793765710118914.jpg', '1591763566276714507.jpg', '1591733366784548864.jpg', '1591703170870231041.jpg', '1591672970526613504.jpg', '1591642773332951041.jpg', '1591612574059024384.jpg', '1591582374717927424.jpg', '1591552172981788672.jpg', '1591521973644820480.jpg', '1591491778682634240.jpg', '1591461579580506113.jpg', '1591431380059070464.jpg', '1591401181162528770.jpg', '1591370981406171136.jpg', '1591340782211936256.jpg', '1591310582338048001.jpg', '1591280382925631489.jpg', '1591250183643287552.jpg', '1591219983937175553.jpg', '1591189788299665408.jpg', '1591159588958576640.jpg', '1591129389533564929.jpg', '1591099190494474241.jpg', '1591068991002275841.jpg', '1591038791841509377.jpg', '1591008592320090113.jpg', '1590978393490616320.jpg', '1590948192702541824.jpg', '1590917997664751616.jpg', '1590887798273232896.jpg', '1590857599284412416.jpg', '1590827399880458240.jpg', '1590797200061145089.jpg', '1590767000569098240.jpg', '1590736800485871617.jpg', '1590706600880193537.jpg', '1590676405867532288.jpg', '1590646204651556865.jpg', '1590616006094770178.jpg', '1590585805252141057.jpg', '1590555606284324864.jpg', '1590525407106723840.jpg', '1590495208113721349.jpg', '1590465012425904129.jpg', '1590434813281910784.jpg', '1590404614251106304.jpg', '1590374411340632064.jpg', '1590344217062039553.jpg', '1590314017695748096.jpg', '1590283818304315392.jpg', '1590253619307106306.jpg', '1590223417839493120.jpg', '1590193219312111617.jpg', '1590163020113580037.jpg', '1590132820722057216.jpg', '1590102621565505536.jpg', '1590072426024636416.jpg', '1590042223101386752.jpg', '1590012027958763521.jpg', '1589981828345040896.jpg', '1589951628618014720.jpg', '1589921429549481984.jpg', '1589891230103523329.jpg', '1589861029206315008.jpg', '1589830833388408832.jpg', '1589800634219257856.jpg', '1589770435104604160.jpg', '1589740235004334080.jpg', '1589710035805872128.jpg', '1589679836200521729.jpg', '1589649636754485248.jpg', '1589619437530886144.jpg', '1589589239645102080.jpg', '1589559043135221760.jpg', '1589528842007236609.jpg', '1589498642125111296.jpg', '1589468445124349952.jpg', '1589438245418385408.jpg', '1589408045347454977.jpg', '1589377849269506048.jpg', '1589347649970352129.jpg', '1589317450415280132.jpg', '1589287249430032386.jpg', '1589257050336264192.jpg', '1589226851045498881.jpg', '1589196651461124096.jpg', '1589166455072833536.jpg', '1589136255308029952.jpg', '1589106057866944512.jpg', '1589075858538364928.jpg', '1589045658048028673.jpg', '1589015460573388800.jpg', '1588985259424501760.jpg', '1588955060247023616.jpg', '1588924861463699456.jpg', '1588894664173621248.jpg', '1588864464832454656.jpg', '1588834265499783169.jpg', '1588804066162769922.jpg', '1588773865747935233.jpg', '1588743668097110016.jpg', '1588713468550467584.jpg', '1588683268739592192.jpg', '1588653072967835649.jpg', '1588622873479946240.jpg', '1588592673866203136.jpg', '1588562473874956289.jpg', '1588532273866907653.jpg', '1588502074706186241.jpg', '1588471879680937985.jpg', '1588441678469165056.jpg', '1588411480302505984.jpg', '1588381281187872769.jpg', '1588351081485987841.jpg', '1588320882492993538.jpg', '1588290681956577280.jpg', '1588260482875432961.jpg', '1588230283932753923.jpg', '1588200088765026305.jpg', '1588169889004498945.jpg', '1588139689206173696.jpg', '1588109489961455616.jpg', '1588079291136212992.jpg', '1588049090327105536.jpg', '1588018894786043904.jpg', '1587988695289761792.jpg', '1587958496418402304.jpg', '1587928296045441024.jpg', '1587898097090166784.jpg', '1587867897447165952.jpg', '1587837698303107072.jpg', '1587807497951145984.jpg', '1587777302884220929.jpg', '1587747102016172037.jpg', '1587716903484547072.jpg', '1587686703426256900.jpg', '1587656504097636354.jpg', '1587626308111982592.jpg', '1587596107894226944.jpg', '1587565907080986628.jpg', '1587535711573487616.jpg', '1587505510768443398.jpg', '1587475311234494464.jpg', '1587445111264190467.jpg', '1587414911365263361.jpg', '1587384716205821952.jpg', '1587354516407537664.jpg', '1587324315841593345.jpg', '1587294115540062208.jpg', '1587263920095449088.jpg', '1587233719516991489.jpg', '1587203519936811008.jpg', '1587173320570466305.jpg', '1587143120830877696.jpg', '1587112921531752450.jpg', '1587082725390884866.jpg', '1587052526351765504.jpg', '1587022327358771201.jpg', '1586992127975620610.jpg', '1586961927359504384.jpg', '1586931728043560961.jpg', '1586901530006802432.jpg', '1586871330665701377.jpg', '1586841130573840384.jpg', '1586810935322169344.jpg', '1586780736081625088.jpg', '1586750536908296192.jpg', '1586720337600708608.jpg', '1586690137378807808.jpg', '1586659938247376896.jpg', '1586629739057336320.jpg', '1586599541410648064.jpg', '1586569341906001922.jpg', '1586539142711631872.jpg', '1586508943014043648.jpg', '1586478746071990273.jpg', '1586448546873503745.jpg', '1586418347356233728.jpg', '1586388147989946368.jpg', '1586357946568495105.jpg', '1586327747588018177.jpg', '1586297552114049024.jpg', '1586267352944943111.jpg', '1586237151712227329.jpg', '1586206952496865280.jpg', '1586176752660844544.jpg', '1586146557354614785.jpg', '1586116357254356993.jpg', '1586086157950930944.jpg', '1586055958697910272.jpg', '1586025757507133441.jpg', '1585995562356158464.jpg', '1585965362964664320.jpg', '1585935163690610688.jpg', '1585904964634828801.jpg', '1585874766195396608.jpg', '1585844567512735744.jpg', '1585814368205213696.jpg', '1585784168436289536.jpg', '1585753968453427200.jpg', '1585723768659316736.jpg', '1585693569473339392.jpg', '1585663370073493504.jpg', '1585633174448529414.jpg', '1585602974344019968.jpg', '1585572774977753090.jpg', '1585542574894305280.jpg', '1585512375607644160.jpg', '1585482176950243328.jpg', '1585451977634258944.jpg', '1585421778007924736.jpg', '1585391581728673792.jpg', '1585361382735630336.jpg', '1585331183641993217.jpg', '1585300983927607297.jpg', '1585270783454064642.jpg', '1585240584037416960.jpg', '1585210387724529664.jpg', '1585180188643495942.jpg', '1585149988610314240.jpg', '1585119789906681856.jpg', '1585089590469107712.jpg', '1585059390939283463.jpg', '1585029191379996672.jpg', '1584998992038875136.jpg', '1584968797072461824.jpg', '1584938597832003584.jpg', '1584908397891457024.jpg', '1584878198239596544.jpg', '1584847997124255745.jpg', '1584817801453109254.jpg', '1584787601784852480.jpg', '1584757402246602752.jpg', '1584727202658103297.jpg', '1584697002935263232.jpg', '1584666803212386305.jpg', '1584636604135546880.jpg', '1584606405159370752.jpg', '1584576210117353472.jpg', '1584546010272890881.jpg', '1584515810646577152.jpg', '1584485611225763841.jpg', '1584455412438355968.jpg', '1584425212694568961.jpg', '1584395013529563138.jpg', '1584364813618061313.jpg', '1584334614272757761.jpg', '1584304418421293059.jpg', '1584274219075936256.jpg', '1584244019374092288.jpg', '1584213820020445184.jpg', '1584183620679307264.jpg', '1584153421266894849.jpg', '1584123222013796354.jpg', '1584093023142498304.jpg', '1584062825491668992.jpg', '1584032626305703936.jpg', '1584002426918404096.jpg', '1583972226876919808.jpg', '1583942030220066816.jpg', '1583911831046737920.jpg', '1583881630275358720.jpg', '1583851431114592260.jpg', '1583821231853142016.jpg', '1583791032566620160.jpg', '1583760833456132096.jpg', '1583730637881503744.jpg', '1583700437886124032.jpg', '1583670238704373760.jpg', '1583640038109106176.jpg', '1583609842291261440.jpg', '1583579642295816192.jpg', '1583549440601640960.jpg', '1583519245278642176.jpg', '1583489044192776195.jpg', '1583458844369297409.jpg', '1583428645170708480.jpg', '1583398446026739714.jpg', '1583368246853394432.jpg', '1583338048934146050.jpg', '1583307850239029248.jpg', '1583277650490974209.jpg', '1583247450910838784.jpg', '1583217255680077824.jpg', '1583187056271904768.jpg', '1583156856955904000.jpg', '1583126655798693891.jpg', '1583096456637952000.jpg', '1583066258982854656.jpg', '1583036059654373376.jpg', '1583005860191645696.jpg', '1582975660183588864.jpg', '1582945460842418177.jpg', '1582915265842466816.jpg', '1582885066501369856.jpg', '1582854866736513024.jpg', '1582824667504463873.jpg', '1582794468150824960.jpg', '1582764268570611712.jpg', '1582734068868734976.jpg', '1582703869267566592.jpg', '1582673669918117888.jpg', '1582643474830016514.jpg', '1582613272645095424.jpg', '1582583076399374337.jpg', '1582552876290670592.jpg', '1582522676773408768.jpg', '1582492477507837953.jpg', '1582462278254764032.jpg', '1582432079115014144.jpg', '1582401880432336897.jpg', '1582371681657532417.jpg', '1582341482593144832.jpg', '1582311283394633729.jpg', '1582281084351303680.jpg', '1582250887833010177.jpg', '1582220686356979712.jpg', '1582190486411915264.jpg', '1582160290505818112.jpg', '1582130090434928640.jpg', '1582099891123200000.jpg', '1582069692054663168.jpg', '1582039492831035392.jpg', '1582009292365869057.jpg', '1581979095574794245.jpg', '1581948896418222082.jpg', '1581918696552820736.jpg', '1581888498784645121.jpg', '1581858298994663426.jpg', '1581828099544559616.jpg', '1581797900119523328.jpg', '1581767704003825666.jpg', '1581737502498443264.jpg', '1581707302632976384.jpg', '1581677103321206786.jpg', '1581646908052754432.jpg', '1581616708875190274.jpg', '1581586509206994945.jpg', '1581556309089918977.jpg', '1581526108683411460.jpg', '1581495913062596609.jpg', '1581465713868296194.jpg', '1581435514623709184.jpg', '1581405315920146432.jpg', '1581375116566360064.jpg', '1581344917669826560.jpg', '1581314718332903425.jpg', '1581284519151181824.jpg', '1581254319952654340.jpg', '1581224120871591937.jpg', '1581193921266229249.jpg', '1581163724798586882.jpg', '1581133524530102272.jpg', '1581103325277081601.jpg', '1581073125432696834.jpg', '1581042925244293120.jpg', '1581012729497677824.jpg', '1580982530374705152.jpg', '1580952331272626176.jpg', '1580922131180707840.jpg', '1580891931848019968.jpg', '1580861732431355904.jpg', '1580831533291577344.jpg', '1580801335124893697.jpg', '1580771135893164032.jpg', '1580740935775768576.jpg', '1580710735713161216.jpg', '1580680539861766144.jpg', '1580650339715338241.jpg', '1580620139065536513.jpg', '1580589939669946368.jpg', '1580559743180976128.jpg', '1580529541977554950.jpg', '1580499343269773312.jpg', '1580469147556642818.jpg', '1580438947649310720.jpg', '1580408748270448640.jpg', '1580378548295999489.jpg', '1580348348279554048.jpg', '1580318151656382465.jpg', '1580287951979761664.jpg', '1580257752466616320.jpg', '1580227553075208193.jpg', '1580197353209753603.jpg', '1580167157819707392.jpg', '1580136958654758912.jpg', '1580106759045193728.jpg', '1580076558890373120.jpg', '1580046359003942913.jpg', '1580016159516020736.jpg', '1579985962725089282.jpg', '1579955762226692096.jpg', '1579925566069051394.jpg', '1579895366521999361.jpg', '1579865166937616384.jpg', '1579834967156084736.jpg', '1579804767341015046.jpg', '1579774567320412160.jpg', '1579744370772701184.jpg', '1579714172790587392.jpg', '1579683973692735488.jpg', '1579653774561288194.jpg', '1579623575597682689.jpg', '1579593373349838848.jpg', '1579563177997524992.jpg', '1579532978916507648.jpg', '1579502778723885056.jpg', '1579472579353399296.jpg', '1579442380280733696.jpg', '1579412181031874560.jpg', '1579381981699194881.jpg', '1579351781825314816.jpg', '1579321582350000130.jpg', '1579291387094192130.jpg', '1579261187543310336.jpg', '1579230987099119617.jpg', '1579200787539890176.jpg', '1579170588257443842.jpg', '1579140389075791873.jpg', '1579110189604564993.jpg', '1579079994122285056.jpg', '1579049793367683072.jpg', '1579019594181640192.jpg', '1578989394085613568.jpg', '1578959194769698816.jpg', '1578928995189420032.jpg', '1578898796439687168.jpg', '1578868599761956864.jpg', '1578838399452033026.jpg', '1578808200161157120.jpg', '1578778002925576194.jpg', '1578747803861282816.jpg', '1578717604528590848.jpg', '1578687403534868482.jpg', '1578657206395842560.jpg', '1578627005863469056.jpg', '1578596806597844992.jpg', '1578566609408434176.jpg', '1578536410839060482.jpg', '1578506210675785728.jpg', '1578476011410247680.jpg', '1578445812484304897.jpg', '1578415612841164800.jpg', '1578385413529513985.jpg', '1578355218504331264.jpg', '1578325019251253248.jpg', '1578294819893309440.jpg', '1578264619801399296.jpg', '1578234419927662593.jpg', '1578204220523573248.jpg', '1578174021161533440.jpg', '1578143824680886272.jpg', '1578113625281028096.jpg', '1578083423884693504.jpg', '1578053224572981249.jpg', '1578023029300350977.jpg', '1577992830466764802.jpg', '1577962631209459712.jpg', '1577932432489082881.jpg', '1577902231986192384.jpg', '1577872032519184386.jpg', '1577841832754454528.jpg', '1577811636752031744.jpg', '1577781436437786624.jpg', '1577751236803145728.jpg', '1577721037306798080.jpg', '1577690837655293952.jpg', '1577660638800715776.jpg', '1577630439849701376.jpg', '1577600241104146432.jpg', '1577570044640301057.jpg', '1577539845169086464.jpg', '1577509645681164289.jpg', '1577479446751105024.jpg', '1577449247842000896.jpg', '1577419048136036352.jpg', '1577388849373724672.jpg', '1577358650552635392.jpg', '1577328451475763201.jpg', '1577298250838994944.jpg', '1577268051719770112.jpg', '1577237852068270082.jpg', '1577207653394051072.jpg', '1577177454031929345.jpg', '1577147255278010368.jpg', '1577117059590549506.jpg', '1577086859561250817.jpg', '1577056659880390656.jpg', '1577026461000605696.jpg', '1576996262229860353.jpg', '1576966062897176576.jpg', '1576935864243916801.jpg', '1576905665640951814.jpg', '1576875467147132930.jpg', '1576845268518989825.jpg', '1576815069018484736.jpg', '1576784869673213952.jpg', '1576754669929406470.jpg', '1576724470655373312.jpg', '1576694274288140291.jpg', '1576664071566286848.jpg', '1576633872233639936.jpg', '1576603673165107201.jpg', '1576573474297942016.jpg', '1576543275174854657.jpg', '1576513076328689664.jpg', '1576482877478346752.jpg', '1576452681475928064.jpg', '1576422481912467456.jpg', '1576392280444874752.jpg', '1576362081212764162.jpg', '1576331884115611648.jpg', '1576301688570486785.jpg', '1576271487614345216.jpg', '1576241288311058434.jpg', '1576211088391122947.jpg', '1576180889133850624.jpg', '1576150690153390081.jpg', '1576120492414554112.jpg', '1576090292314198016.jpg', '1576060092541124608.jpg', '1576029892604354560.jpg', '1575999693305192450.jpg', '1575969497596338176.jpg', '1575939297969983489.jpg', '1575909098738003969.jpg', '1575878899258433536.jpg', '1575848700034760704.jpg', '1575818499934474240.jpg', '1575788300379385856.jpg', '1575758105236815872.jpg', '1575727904796790787.jpg', '1575697705531109376.jpg', '1575667506009714690.jpg', '1575637306794397697.jpg', '1575607106417225728.jpg', '1575576911283048448.jpg', '1575546711786676226.jpg', '1575516512399392769.jpg', '1575486311909052416.jpg', '1575456112710602753.jpg', '1575425912840982528.jpg', '1575395717186670592.jpg', '1575365517031796737.jpg', '1575335317573287936.jpg', '1575305117540052992.jpg', '1575274918198972416.jpg', '1575244722372628480.jpg', '1575214523027333122.jpg', '1575184323271004160.jpg', '1575154124118577153.jpg', '1575123924160942082.jpg', '1575093724211605505.jpg', '1575063525046640640.jpg', '1575033325961347072.jpg', '1575003129526902784.jpg', '1574972930009595904.jpg', '1574942730748276739.jpg', '1574912531138678784.jpg', '1574882330845450240.jpg', '1574852135753158656.jpg', '1574821936584044545.jpg', '1574791735246405633.jpg', '1574761538929692672.jpg', '1574731339256893440.jpg', '1574701139781525504.jpg', '1574670940528525312.jpg', '1574640740205854727.jpg', '1574610540546007042.jpg', '1574580344975634432.jpg', '1574550145550626816.jpg', '1574519945571885059.jpg', '1574489746390208512.jpg', '1574459547074191360.jpg', '1574429347947024384.jpg', '1574399148341620738.jpg', '1574368949092827137.jpg', '1574338752322805768.jpg', '1574308552788672512.jpg', '1574278353099505664.jpg', '1574248154072985600.jpg', '1574217954492678144.jpg', '1574187756883914752.jpg', '1574157556645175296.jpg', '1574127356779773952.jpg', '1574097157535059969.jpg', '1574066961784311809.jpg', '1574036761818193921.jpg', '1574006562116378625.jpg', '1573976362905313280.jpg', '1573946165971722241.jpg', '1573915965867274241.jpg', '1573885766672883712.jpg', '1573855567461818369.jpg', '1573825372143091713.jpg', '1573795170964819968.jpg', '1573764971405590529.jpg', '1573734770583818240.jpg', '1573704571435683841.jpg', '1573674371771531264.jpg', '1573644172585668608.jpg', '1573613977170370560.jpg', '1573583777959358464.jpg', '1573553577640939521.jpg', '1573523376907292672.jpg', '1573493177834610688.jpg', '1573462978212478976.jpg', '1573432782558150656.jpg', '1573402583212834817.jpg', '1573372382571417616.jpg', '1573342183687454720.jpg', '1573311984308609025.jpg', '1573281787421216769.jpg', '1573251587501264896.jpg', '1573221388264972289.jpg', '1573191187757834240.jpg', '1573160991856025600.jpg', '1573130792422690816.jpg', '1573100592590770177.jpg', '1573070392427614208.jpg', '1573040194416431104.jpg', '1573009994123214848.jpg', '1572979797437063171.jpg', '1572949596284022784.jpg', '1572919399979548672.jpg', '1572889199346581505.jpg', '1572859002085847041.jpg', '1572828800412712961.jpg', '1572798600329203713.jpg', '1572768404544819201.jpg', '1572738203597275136.jpg', '1572708006546251777.jpg', '1572677806387265538.jpg', '1572647608518311936.jpg', '1572617407524667392.jpg', '1572587210976956421.jpg', '1572557010134237186.jpg', '1572526812974157824.jpg', '1572496612844515328.jpg', '1572466413306249216.jpg', '1572436212589400064.jpg', '1572406016800858113.jpg', '1572375816197251074.jpg', '1572345616793210880.jpg', '1572315420564267008.jpg', '1572285219423813638.jpg', '1572255020959272961.jpg', '1572224823874715648.jpg', '1572194623522754560.jpg', '1572164422952718338.jpg', '1572134226769883137.jpg', '1572104025528741890.jpg', '1572073828158951425.jpg', '1572043627068796928.jpg', '1572013431087321089.jpg', '1571983229862936577.jpg', '1571953029276143618.jpg', '1571922832199909376.jpg', '1571892631256584198.jpg', '1571862435493187586.jpg', '1571832234235301888.jpg', '1571802036857106432.jpg', '1571771836077309952.jpg', '1571741639055675392.jpg', '1571711437898391554.jpg', '1571681240528617472.jpg', '1571651040050810880.jpg', '1571620842114781186.jpg', '1571590641213407234.jpg', '1571560445148008448.jpg', '1571530243290320900.jpg', '1571500046604185602.jpg', '1571469846369665025.jpg', '1571439649847128066.jpg', '1571409447616131073.jpg', '1571379249336176642.jpg', '1571349048912936963.jpg', '1571318853241802754.jpg', '1571288654932512769.jpg', '1571258452370165761.jpg', '1571228255293964289.jpg', '1571198055302713344.jpg', '1571167855449899014.jpg', '1571137659162202118.jpg', '1571107458374070274.jpg', '1571077262136725504.jpg', '1571047061830901760.jpg', '1571016863781629953.jpg', '1570986663102513154.jpg', '1570956462616383488.jpg', '1570926266483871744.jpg', '1570896065087557633.jpg', '1570865868879572996.jpg', '1570835667403538432.jpg', '1570805469018726403.jpg', '1570775271921561603.jpg', '1570745070185517057.jpg', '1570714872639524866.jpg', '1570684674699300864.jpg', '1570654475878273025.jpg', '1570624273865396224.jpg', '1570594077628043265.jpg', '1570563877590671361.jpg', '1570533679910498304.jpg', '1570503478547730432.jpg', '1570473282461372416.jpg', '1570443081882947586.jpg', '1570412883640721411.jpg', '1570382683087466498.jpg', '1570352486074183686.jpg', '1570322287563509763.jpg', '1570292088352419842.jpg', '1570261887430070274.jpg', '1570231689942806529.jpg', '1570201490018693121.jpg', '1570171290333618176.jpg', '1570141093119021056.jpg', '1570110891865276416.jpg', '1570080694898139137.jpg', '1570050496609816577.jpg', '1570020294118764544.jpg', '1569990097071906817.jpg', '1569959898406076426.jpg', '1569929700696543233.jpg', '1569899499577024515.jpg', '1569869299212492800.jpg', '1569839102463442944.jpg', '1569808904506449924.jpg', '1569778702246084608.jpg', '1569748503425056768.jpg', '1569718305413529600.jpg', '1569688107691429894.jpg', '1569657910162259968.jpg', '1569627708531032064.jpg', '1569597511270285315.jpg', '1569567312369569792.jpg', '1569537113380769792.jpg', '1569506913020444674.jpg', '1569476714522345473.jpg', '1569446515760058368.jpg', '1569416317945663488.jpg', '1569386117312688128.jpg', '1569355918667825155.jpg', '1569325717128900608.jpg', '1569295519805218817.jpg', '1569265324012224512.jpg', '1569235124126089216.jpg', '1569204921379229696.jpg', '1569174724298833920.jpg', '1569144525943361537.jpg', '1569114324920336385.jpg', '1569084127093358593.jpg', '1569053928356184065.jpg', '1569023729786822661.jpg', '1568993531808862210.jpg', '1568963330760675328.jpg', '1568933132895940608.jpg', '1568902935354183681.jpg', '1568872734326943744.jpg', '1568842536730660864.jpg', '1568812337485983745.jpg', '1568782138794983426.jpg', '1568751938564673536.jpg', '1568721739622019074.jpg', '1568691538334728192.jpg', '1568661341891866625.jpg', '1568631140646547456.jpg', '1568600942836355075.jpg', '1568570745902735360.jpg', '1568540545349464067.jpg', '1568510347669303297.jpg', '1568480146470105090.jpg', '1568449949230309376.jpg', '1568419749134241792.jpg', '1568389548539019265.jpg', '1568359349680226306.jpg', '1568329153665183744.jpg', '1568298953346793472.jpg', '1568268754894868487.jpg', '1568238557114007555.jpg', '1568208358389456897.jpg', '1568178156087177223.jpg', '1568147958922907648.jpg', '1568117759795691520.jpg', '1568087562501386240.jpg', '1568057362426245125.jpg', '1568027160774057984.jpg', '1567996962649313280.jpg', '1567966762825822208.jpg', '1567936563874791425.jpg', '1567906366127489026.jpg', '1567876167998504962.jpg', '1567845969752117253.jpg', '1567815771690258432.jpg', '1567785569220182016.jpg', '1567755370747281410.jpg', '1567725170131103744.jpg', '1567694974342529026.jpg', '1567664775953547264.jpg', '1567634577002475521.jpg', '1567604375820075010.jpg', '1567574178894839808.jpg', '1567543980807827456.jpg', '1567513780506206209.jpg', '1567483582637285382.jpg', '1567453381563940864.jpg', '1567423184567431174.jpg', '1567392982390951937.jpg', '1567362786245906434.jpg', '1567332584228790272.jpg', '1567302387244867585.jpg', '1567272186817433601.jpg', '1567241989082718211.jpg', '1567211791230582785.jpg', '1567181590295617537.jpg', '1567151393093603329.jpg', '1567121193253351436.jpg', '1567090995686428672.jpg', '1567060794457862147.jpg', '1567030595926249474.jpg', '1567000396966825985.jpg', '1566970199651536897.jpg', '1566939999689314304.jpg', '1566909798922084354.jpg', '1566879599597801472.jpg', '1566849400088829953.jpg', '1566819201058082816.jpg', '1566789001930870784.jpg', '1566758806767276032.jpg', '1566728607627558912.jpg', '1566698408139575296.jpg', '1566668207561183232.jpg', '1566638008337461248.jpg', '1566607809726230529.jpg', '1566577610007519233.jpg', '1566547413879246850.jpg', '1566517212873052160.jpg', '1566487013590609920.jpg', '1566456813586825219.jpg', '1566426614354681856.jpg', '1566396414854176773.jpg', '1566366219438944256.jpg', '1566336020257247233.jpg', '1566305819909451776.jpg', '1566275620723535873.jpg', '1566245421365678080.jpg', '1566215221676425216.jpg', '1566185024558432256.jpg', '1566154824076341248.jpg', '1566124624823275520.jpg', '1566094427474366464.jpg', '1566064228330442752.jpg', '1566034027236077568.jpg', '1566003831720140800.jpg', '1565973632202944512.jpg', '1565943431733489664.jpg', '1565913234476896256.jpg', '1565883034594750465.jpg', '1565852835320774657.jpg', '1565822635589525504.jpg', '1565792436407787520.jpg', '1565762237079306240.jpg', '1565732038384054275.jpg', '1565701841530171395.jpg', '1565671641719287808.jpg', '1565641442675998721.jpg', '1565611241837436928.jpg', '1565581045604397058.jpg', '1565550846204514304.jpg', '1565520644552290311.jpg', '1565490449065816065.jpg', '1565460249447788544.jpg', '1565430049800478722.jpg', '1565399850333573121.jpg', '1565369650875052032.jpg', '1565339451416424451.jpg', '1565309251748147200.jpg', '1565279056026685440.jpg', '1565248856446496769.jpg', '1565218658296532993.jpg', '1565188458695430144.jpg', '1565158259228418048.jpg', '1565128058318700545.jpg', '1565097859166269440.jpg', '1565067659955150848.jpg', '1565037460597329921.jpg', '1565007265253404672.jpg', '1564977063752110080.jpg', '1564946864130048001.jpg', '1564916664822484993.jpg', '1564886465447833600.jpg', '1564856270053445632.jpg', '1564826070762733573.jpg', '1564795871224467456.jpg', '1564765671996608513.jpg', '1564735471527215104.jpg', '1564705272529989633.jpg', '1564675073138495488.jpg', '1564644877434068992.jpg', '1564614676649914372.jpg', '1564584477220687872.jpg', '1564554278039015424.jpg', '1564524078312013824.jpg', '1564493882112413696.jpg', '1564463683022962690.jpg', '1564433483509903361.jpg', '1564403283950649346.jpg', '1564373083917414400.jpg', '1564342888489553920.jpg', '1564312687269462016.jpg', '1564282487290769408.jpg', '1564252288058683392.jpg', '1564222088864358400.jpg', '1564191889393197056.jpg', '1564161689787834368.jpg', '1564131494196494336.jpg', '1564101295044104192.jpg', '1564071095342247937.jpg', '1564040896097554432.jpg', '1564010695741476865.jpg', '1563980496660357120.jpg', '1563950298061713408.jpg', '1563920098238160896.jpg', '1563889902458007552.jpg', '1563859702986838019.jpg', '1563829503847047168.jpg', '1563799304677904384.jpg', '1563769104523096064.jpg', '1563738905307803648.jpg', '1563708706306473984.jpg', '1563678506571091968.jpg', '1563648307561635841.jpg', '1563618108161503232.jpg', '1563587909092982785.jpg', '1563557713786703872.jpg', '1563527513929764864.jpg', '1563497313930121216.jpg', '1563467114370936832.jpg', '1563436915210129408.jpg', '1563406714958794757.jpg', '1563376519644295169.jpg', '1563346319577530369.jpg', '1563316120102219777.jpg', '1563285920098312194.jpg', '1563255721033998336.jpg', '1563225521663533056.jpg', '1563195325522726914.jpg', '1563165125774753794.jpg', '1563134926790148096.jpg', '1563104727142785024.jpg', '1563074527336099846.jpg', '1563044330893217792.jpg', '1563014131464122370.jpg', '1562983931615449088.jpg', '1562953732249174017.jpg', '1562923532295606272.jpg', '1562893333164265472.jpg', '1562863136759197699.jpg', '1562832937405411329.jpg', '1562802738190176256.jpg', '1562772538433753088.jpg', '1562742338543181824.jpg', '1562712139030073345.jpg', '1562681942335574017.jpg', '1562651743044849664.jpg', '1562621543321964552.jpg', '1562591343737614337.jpg', '1562561143373058048.jpg', '1562530947995643906.jpg', '1562500747920519174.jpg', '1562470547069448192.jpg', '1562440350790062085.jpg', '1562410151327326214.jpg', '1562379952153956352.jpg', '1562349752989102081.jpg', '1562319553316630529.jpg', '1562289354189418498.jpg', '1562259154173308929.jpg', '1562228958296285184.jpg', '1562198756266614784.jpg', '1562168556506124288.jpg', '1562138361535467520.jpg', '1562108162005614592.jpg', '1562077962643484674.jpg', '1562047762903867394.jpg', '1562017564082941953.jpg', '1561987364741791744.jpg', '1561957164243042305.jpg', '1561926964838948865.jpg', '1561896765887942658.jpg', '1561866570552336385.jpg', '1561836368895954944.jpg', '1561806169206714369.jpg', '1561775973606887424.jpg', '1561745774341267456.jpg', '1561715572471054341.jpg', '1561685372697923584.jpg', '1561655177676935169.jpg', '1561624978591690753.jpg', '1561594777908363264.jpg', '1561564578739195904.jpg', '1561534379679047681.jpg', '1561504180694421506.jpg', '1561473982133481472.jpg', '1561443782666530816.jpg', '1561413583304437760.jpg', '1561383383434797056.jpg', '1561353184043446272.jpg', '1561322988401635328.jpg', '1561292789358272512.jpg', '1561262590096859136.jpg', '1561232389828780032.jpg', '1561202191276224513.jpg', '1561171992148987904.jpg', '1561141792531042305.jpg', '1561111595450654721.jpg', '1561081396046622720.jpg', '1561051197292679168.jpg', '1561020997909680128.jpg', '1560990796404232197.jpg', '1560960600636735489.jpg', '1560930401136168960.jpg', '1560900202025734145.jpg', '1560870002307174400.jpg', '1560839803259695104.jpg', '1560809604316950529.jpg', '1560779405005164544.jpg', '1560749205307547648.jpg', '1560719006075482112.jpg', '1560688809813037057.jpg', '1560658610648035328.jpg', '1560628411420143616.jpg', '1560598210543947777.jpg', '1560568010758189057.jpg', '1560537811542896643.jpg', '1560507615326507008.jpg', '1560477415666634758.jpg', '1560447216694595584.jpg', '1560417017219321857.jpg', '1560386817416826880.jpg', '1560356620982296576.jpg', '1560326421876072448.jpg', '1560296221159276544.jpg', '1560266020983431169.jpg', '1560235821814333440.jpg', '1560205622959755269.jpg', '1560175423664693248.jpg', '1560145226299101185.jpg', '1560115027582935040.jpg', '1560084828111790080.jpg', '1560054627571183616.jpg', '1560024432172683265.jpg', '1559994233255104512.jpg', '1559964033742036993.jpg', '1559933833528483840.jpg', '1559903634271645699.jpg', '1559873433390837760.jpg', '1559843234376863745.jpg', '1559813035287490561.jpg', '1559782838852935681.jpg', '1559752639276933120.jpg', '1559722439239561216.jpg', '1559692239621632000.jpg', '1559662044504154112.jpg', '1559631841560125442.jpg', '1559601646291656704.jpg', '1559571446673784834.jpg', '1559541246959398915.jpg', '1559511047316205569.jpg', '1559480848071553024.jpg', '1559450648910778368.jpg', '1559420448852520960.jpg', '1559390249536565248.jpg', '1559360054553235461.jpg', '1559329855363158016.jpg', '1559299655749357568.jpg', '1559269456441798656.jpg', '1559239257054580736.jpg', '1559209057201795073.jpg', '1559178858057715717.jpg', '1559148658339106818.jpg', '1559118458641457152.jpg', '1559088263494635520.jpg', '1559058063574720512.jpg', '1559027864388792321.jpg', '1558997665165332482.jpg', '1558967465173929985.jpg', '1558937264960352257.jpg', '1558907065845760000.jpg', '1558876866752106496.jpg', '1558846671760416768.jpg', '1558816472385802241.jpg', '1558786272511946752.jpg', '1558756071606431744.jpg', '1558725871711559680.jpg', '1558695675805646848.jpg', '1558665476502302720.jpg', '1558635278218145794.jpg', '1558605079506087937.jpg', '1558574878298480640.jpg', '1558544678781300736.jpg', '1558514479578509312.jpg', '1558484279876669442.jpg', '1558454084847353856.jpg', '1558423885627867137.jpg', '1558393684386648064.jpg', '1558363484789780481.jpg', '1558333287080202240.jpg', '1558303087537713159.jpg', '1558272888448225281.jpg', '1558242688419254274.jpg', '1558212489359200256.jpg', '1558182290462609408.jpg', '1558152090861506561.jpg', '1558121892258598913.jpg', '1558091693227798528.jpg', '1558061497594437632.jpg', '1558031298710552576.jpg', '1558001097595166720.jpg', '1557970900032442370.jpg', '1557940698837442561.jpg', '1557910502755295233.jpg', '1557880303254794240.jpg', '1557850104022700032.jpg', '1557819904669011968.jpg', '1557789705311096832.jpg', '1557759507899359232.jpg', '1557729308361183241.jpg', '1557699108046979072.jpg', '1557668909758627840.jpg', '1557638710627168258.jpg', '1557608510656942080.jpg', '1557578311068356608.jpg', '1557548111580368896.jpg', '1557517912323198976.jpg', '1557487716631134208.jpg', '1557457517344542721.jpg', '1557427318301200384.jpg', '1557397118003777536.jpg', '1557366921212747777.jpg', '1557336721481601026.jpg', '1557306520269758464.jpg', '1557276320907661314.jpg', '1557246124481662977.jpg', '1557215924423258112.jpg', '1557185725438705665.jpg', '1557155527955607552.jpg', '1557125327888924672.jpg', '1557095129340465152.jpg', '1557064929831661569.jpg', '1557034729613824000.jpg', '1557004530017251328.jpg', '1556974334375329798.jpg', '1556944133503066112.jpg', '1556913933973196800.jpg', '1556883733499633665.jpg', '1556853536482213888.jpg', '1556823338030272512.jpg', '1556793139435696128.jpg', '1556762939129884672.jpg', '1556732738798907392.jpg', '1556702539491336192.jpg', '1556672344281608192.jpg', '1556642142969245696.jpg', '1556611943204458497.jpg', '1556581745784340480.jpg', '1556551545231011842.jpg', '1556521348901380096.jpg', '1556491148557856768.jpg', '1556460949460041728.jpg', '1556430750429286401.jpg', '1556400552866488321.jpg', '1556370353600880640.jpg', '1556340153940992002.jpg', '1556309954570489857.jpg', '1556279754768072704.jpg', '1556249554608988160.jpg', '1556219359747420162.jpg', '1556189160360185856.jpg', '1556158960142389248.jpg', '1556128759891107841.jpg', '1556098560499675136.jpg', '1556068361359876096.jpg', '1556038165680439297.jpg', '1556007966012108801.jpg', '1555977766838734848.jpg', '1555947568156139521.jpg', '1555917369041510400.jpg', '1555887169952092160.jpg', '1555856967096094720.jpg', '1555826768946163712.jpg', '1555796572037738496.jpg', '1555766370846986240.jpg', '1555736175184293888.jpg', '1555705975927058432.jpg', '1555675775679938561.jpg', '1555645576594612224.jpg', '1555615377039638528.jpg', '1555585178386325504.jpg', '1555554978579636224.jpg', '1555524778991054850.jpg', '1555494581499613184.jpg', '1555464384528334849.jpg', '1555434184583176192.jpg', '1555403985292406784.jpg', '1555373785632583680.jpg', '1555343586782216193.jpg', '1555313385675169792.jpg', '1555283187055468544.jpg', '1555252988528144385.jpg', '1555222789660954630.jpg', '1555192594162139136.jpg', '1555162394992656385.jpg', '1555132195626295296.jpg', '1555101995987570691.jpg', '1555071794930823170.jpg', '1555041599154884613.jpg', '1555011395485241344.jpg', '1554981200527179776.jpg', '1554951000749854720.jpg', '1554920801899409408.jpg', '1554890602327683073.jpg', '1554860402273501185.jpg', '1554830202219294723.jpg', '1554800007189893125.jpg', '1554769808104706048.jpg', '1554739608973221888.jpg', '1554709408701026305.jpg', '1554679209703776256.jpg', '1554649009796435968.jpg', '1554618811285835777.jpg', '1554588611965640704.jpg', '1554558413522100225.jpg', '1554528214151602176.jpg', '1554498014244261889.jpg', '1554467817952772096.jpg', '1554437617789255681.jpg', '1554407416506093568.jpg', '1554377221162209284.jpg', '1554347020818661376.jpg', '1554316820634804226.jpg', '1554286621171691520.jpg', '1554256422656811008.jpg', '1554226223227711490.jpg', '1554196024121430018.jpg', '1554165824398602247.jpg', '1554135629348319233.jpg', '1554105429730332672.jpg', '1554075230821240832.jpg', '1554045030653865986.jpg', '1554014832004763649.jpg', '1553984631925383175.jpg', '1553954432953434117.jpg', '1553924233499095041.jpg', '1553894034698997760.jpg', '1553863834376359936.jpg', '1553833635815428096.jpg', '1553803438919520257.jpg', '1553773239792328706.jpg', '1553743040564449280.jpg', '1553712840480997377.jpg', '1553682641139879936.jpg', '1553652445686878209.jpg', '1553622245922131968.jpg', '1553592046505431040.jpg', '1553561846581301248.jpg', '1553531648087429120.jpg', '1553501446993170432.jpg', '1553471247803043840.jpg', '1553441048776417280.jpg', '1553410853688336384.jpg', '1553380654368190465.jpg', '1553350454884519936.jpg', '1553320255077752832.jpg', '1553290055795429376.jpg', '1553259855284092928.jpg', '1553229659424165888.jpg', '1553199456060772352.jpg', '1553169261517910016.jpg', '1553139060914491393.jpg', '1553108864010113024.jpg', '1553078663524274176.jpg', '1553048462798663680.jpg', '1553018264753561600.jpg', '1552988064510685186.jpg', '1552957868495712257.jpg', '1552927668575748096.jpg', '1552897467800117249.jpg', '1552867270782701568.jpg', '1552837070996922369.jpg', '1552806871639109633.jpg', '1552776671937212416.jpg', '1552746471803392001.jpg', '1552716276627230720.jpg', '1552686074962399234.jpg', '1552655875289915393.jpg', '1552625677240676352.jpg', '1552595478126071813.jpg', '1552565279002988544.jpg', '1552535082597920769.jpg', '1552504883370070016.jpg', '1552474684205047808.jpg', '1552444484922642432.jpg', '1552414284809846784.jpg', '1552384085581918208.jpg', '1552353886278627328.jpg', '1552323686962642945.jpg', '1552293490758823936.jpg', '1552263290977263617.jpg', '1552233091460001792.jpg', '1552202894757076992.jpg', '1552172692681269249.jpg', '1552142493159804928.jpg', '1552112293613150208.jpg', '1552082094272045056.jpg', '1552051898382880770.jpg', '1552021699599540224.jpg', '1551991500472401921.jpg', '1551961301257097217.jpg', '1551931101383467013.jpg', '1551900900477657088.jpg', '1551870701287575554.jpg', '1551840506308546560.jpg', '1551810306338304001.jpg', '1551780106779049984.jpg', '1551749907068817409.jpg', '1551719708105199616.jpg', '1551689508197789696.jpg', '1551659309372583936.jpg', '1551629109905596416.jpg', '1551598910669393920.jpg', '1551568711458271233.jpg', '1551538516168810496.jpg', '1551508316777377793.jpg', '1551478117176184832.jpg', '1551447917222801410.jpg', '1551417718217158656.jpg', '1551387517605142530.jpg', '1551357322097635328.jpg', '1551327121510789122.jpg', '1551296922421342208.jpg', '1551266723059212288.jpg', '1551236524586311680.jpg', '1551206324939083776.jpg', '1551176125245624320.jpg', '1551145926009335808.jpg', '1551115730065559553.jpg', '1551085530187644928.jpg', '1551055329508544512.jpg', '1551025132876861441.jpg', '1550994933451931648.jpg', '1550964732525367296.jpg', '1550934533192630272.jpg', '1550904334484836352.jpg', '1550874134652997633.jpg', '1550843939711643650.jpg', '1550813738676064256.jpg', '1550783539112660993.jpg', '1550753341608562688.jpg', '1550723139662856192.jpg', '1550692944595673089.jpg', '1550662745250353152.jpg', '1550632545540198401.jpg', '1550602345351786497.jpg', '1550572145431814144.jpg', '1550541946099097600.jpg', '1550511750679695362.jpg', '1550481551296589824.jpg', '1550451351972261888.jpg', '1550421152790548480.jpg', '1550390953566826498.jpg', '1550360752665399298.jpg', '1550330556650360833.jpg', '1550300357334429696.jpg', '1550270157364539393.jpg', '1550239956593180672.jpg', '1550209756924563456.jpg', '1550179558074097667.jpg', '1550149362910502919.jpg', '1550119162751512579.jpg', '1550088963372634112.jpg', '1550058763503054848.jpg', '1550028563922894849.jpg', '1549998366502764545.jpg', '1549968166666641413.jpg', '1549937966696386561.jpg', '1549907766336139267.jpg', '1549877571042521088.jpg', '1549847370728214528.jpg', '1549817173774069760.jpg', '1549786974097002496.jpg', '1549756775028494336.jpg', '1549726574219382786.jpg', '1549696375016656896.jpg', '1549666175449149440.jpg', '1549635979937386497.jpg', '1549605780252270593.jpg', '1549575580974084096.jpg', '1549545381880483840.jpg', '1549515181843066880.jpg', '1549484982334156801.jpg', '1549454783085285376.jpg', '1549424583777734657.jpg', '1549394388601692160.jpg', '1549364187591168000.jpg', '1549333987826360327.jpg', '1549303790628585472.jpg', '1549273590846984192.jpg', '1549243391610724352.jpg', '1549213192244436993.jpg', '1549182995256320000.jpg', '1549152794963087361.jpg', '1549122596054044673.jpg', '1549092395710484480.jpg', '1549062196474171392.jpg', '1549031999209230337.jpg', '1549001800073637890.jpg', '1548971600896094209.jpg', '1548941401714413569.jpg', '1548911203782578176.jpg', '1548881004659585024.jpg', '1548850805754646529.jpg', '1548820606434430976.jpg', '1548790405801553921.jpg', '1548760205898313728.jpg', '1548730008973164544.jpg', '1548699809862651904.jpg', '1548669610525741057.jpg', '1548639410752614400.jpg', '1548609211407351808.jpg', '1548579012452052992.jpg', '1548548814910267392.jpg', '1548518615195930625.jpg', '1548488415787724801.jpg', '1548458216320692234.jpg', '1548428018774708225.jpg', '1548397819488116739.jpg', '1548367621761863681.jpg', '1548337420004864002.jpg', '1548307224358883331.jpg', '1548277024170450945.jpg', '1548246824879677440.jpg', '1548216625526034434.jpg', '1548186426784632838.jpg', '1548156227808477184.jpg', '1548126028286988294.jpg', '1548095829684015106.jpg', '1548065630066130944.jpg', '1548035430292934659.jpg', '1548005231018987520.jpg', '1547975032273440773.jpg', '1547944833280446464.jpg', '1547914634346127361.jpg', '1547884438444314626.jpg', '1547854236125319169.jpg', '1547824040387104775.jpg', '1547793841075265538.jpg', '1547763641860075520.jpg', '1547733441273159680.jpg', '1547703244238925825.jpg', '1547673041127149569.jpg', '1547642842570313730.jpg', '1547612644093218824.jpg', '1547552249705947136.jpg', '1547522050259988480.jpg', '1547491851132739584.jpg', '1547461652991250432.jpg', '1547431452765462528.jpg', '1547401252476051456.jpg', '1547371055031123968.jpg', '1547340853525377024.jpg', '1547310654448553984.jpg', '1547280459091959812.jpg', '1547250258840657920.jpg', '1547220059612884994.jpg', '1547189858539515905.jpg', '1547159662734102529.jpg', '1547129463984361472.jpg', '1547099264194531328.jpg', '1547069064886960128.jpg', '1547038866153934848.jpg', '1547008666783518720.jpg', '1546978466964246529.jpg', '1546948266247348224.jpg', '1546918067485085696.jpg', '1546887868060028929.jpg', '1546857673152286720.jpg', '1546827474067005442.jpg', '1546797274885328898.jpg', '1546767075783294976.jpg', '1546736876135952384.jpg', '1546706675410694146.jpg', '1546676476241555456.jpg', '1546646276896202752.jpg', '1546616077806800896.jpg', '1546585878679547904.jpg', '1546555680156356609.jpg', '1546525481016500224.jpg', '1546495281524461569.jpg', '1546465086096560128.jpg', '1546434887023923200.jpg', '1546404687972208640.jpg', '1546374488240992256.jpg', '1546344289164148737.jpg', '1546314089869111296.jpg', '1546283890569932802.jpg', '1546253692050886656.jpg', '1546223492990808064.jpg', '1546193293817434112.jpg', '1546163094497292289.jpg', '1546132894774464512.jpg', '1546102695634751490.jpg', '1546072500605521920.jpg', '1546042300127535104.jpg', '1546012099775647744.jpg', '1545981900560379904.jpg', '1545951701529530368.jpg', '1545921501945163776.jpg', '1545891304877350912.jpg', '1545861105385234433.jpg', '1545830906161598464.jpg', '1545800707034361856.jpg', '1545770505906532355.jpg', '1545740310516740096.jpg', '1545710110307102721.jpg', '1545679910701658112.jpg', '1545649710865649664.jpg', '1545619514586370049.jpg', '1545589315102617605.jpg', '1545559115782426624.jpg', '1545528915937988612.jpg', '1545498717502877696.jpg', '1545468518220439553.jpg', '1545438319063904256.jpg', '1545408120045723651.jpg', '1545377920549498880.jpg', '1545347720390385664.jpg', '1545317521737142273.jpg', '1545287321884364802.jpg', '1545257126410407936.jpg', '1545226927627051008.jpg', '1545196725068910593.jpg', '1545166526101086208.jpg', '1545136327196229632.jpg', '1545106127892856832.jpg', '1545075930892120067.jpg', '1545045731060305920.jpg', '1545015531618459648.jpg', '1544985332587802625.jpg', '1544955134974734337.jpg', '1544924934203289600.jpg', '1544894738435780610.jpg', '1544864539207823361.jpg', '1544834340126801921.jpg', '1544804140206804995.jpg', '1544773939351601153.jpg', '1544743740509544450.jpg', '1544713544226131969.jpg', '1544683345191194624.jpg', '1544653144012890113.jpg', '1544622947847270401.jpg', '1544592747780120576.jpg', '1544562547373645825.jpg', '1544532347776749568.jpg', '1544502148045492224.jpg', '1544471952458272768.jpg', '1544441750156021761.jpg', '1544411551238524929.jpg', '1544381352664915969.jpg', '1544351153407684608.jpg', '1544320957594099712.jpg', '1544290755799265281.jpg', '1544260559880998913.jpg', '1544230360086482944.jpg', '1544200163077521408.jpg', '1544169961811091456.jpg', '1544139763074011138.jpg', '1544109563338641408.jpg', '1544079362722373632.jpg', '1544049163284856832.jpg', '1544018968288980993.jpg', '1543988767089782784.jpg', '1543958568553984000.jpg', '1543928368990564353.jpg', '1543898169620062209.jpg', '1543867972166373376.jpg', '1543837772137394177.jpg', '1543807572125577217.jpg', '1543777376311513088.jpg', '1543747176571944960.jpg', '1543716976878530560.jpg', '1543686777650614272.jpg', '1543656576573067265.jpg', '1543626381140955136.jpg', '1543596181997047810.jpg', '1543565982370635777.jpg', '1543535781087629312.jpg', '1543505582132367360.jpg', '1543475385626529792.jpg', '1543445186386149376.jpg', '1543414987162472448.jpg', '1543384787854823424.jpg', '1543354588253659136.jpg', '1543324388929310720.jpg', '1543294189206548480.jpg', '1543263992415543296.jpg', '1543233792374018049.jpg', '1543203592881836032.jpg', '1543173393595318272.jpg', '1543143194430357505.jpg', '1543112998243381248.jpg', '1543082799090896896.jpg', '1543052599670087680.jpg', '1543022400593203201.jpg', '1542992201461796865.jpg', '1542962002171027456.jpg', '1542931802821574656.jpg', '1542901603736309761.jpg', '1542871404520935424.jpg', '1542841205318332421.jpg', '1542811005830303745.jpg', '1542780806078205952.jpg', '1542750609937289216.jpg', '1542720409765695488.jpg', '1542690210533650432.jpg', '1542660011716816896.jpg', '1542629811285176320.jpg', '1542599611776241665.jpg', '1542569412703559681.jpg', '1542539217653227520.jpg', '1542509018261753861.jpg', '1542478819159724036.jpg', '1542448620045082624.jpg', '1542418421068877824.jpg', '1542388220184276992.jpg', '1542358021174468610.jpg', '1542327821321633792.jpg', '1542297623020699648.jpg', '1542267423713157120.jpg', '1542237226389495808.jpg', '1542207026654130176.jpg', '1542176827535282176.jpg', '1542146629406441473.jpg', '1542116428387520513.jpg', '1542086229155401728.jpg', '1542056033891209217.jpg', '1542025833929289729.jpg', '1541995634269364226.jpg', '1541965435238682624.jpg', '1541935234156941312.jpg', '1541905035038101505.jpg', '1541874836162564097.jpg', '1541844641095376897.jpg', '1541814440172986368.jpg', '1541784239166717957.jpg', '1541754043797602306.jpg', '1541723844632645633.jpg', '1541693644863811584.jpg', '1541663443970707456.jpg', '1541633245023854592.jpg', '1541603046047612928.jpg', '1541572847482548224.jpg', '1541542648342663168.jpg', '1541512449072852992.jpg', '1541482250713178112.jpg', '1541452051720183808.jpg', '1541421852563607552.jpg', '1541391652689891328.jpg', '1541361453080293376.jpg', '1541331257820188672.jpg', '1541301058340761600.jpg', '1541270858865397760.jpg', '1541240660069474305.jpg', '1541210461244297216.jpg', '1541180262960074754.jpg', '1541150059902865408.jpg', '1541119861513850880.jpg', '1541089666203406336.jpg', '1541059467134963712.jpg', '1541029267152113665.jpg', '1540999068331044865.jpg', '1540968868763447296.jpg', '1540938668591837189.jpg', '1540908469636587520.jpg', '1540878270299746304.jpg', '1540848074318381056.jpg', '1540817873823596544.jpg', '1540787674784509952.jpg', '1540757475539816450.jpg', '1540727275573825542.jpg', '1540697075599388677.jpg', '1540666879647174656.jpg', '1540636680327090177.jpg', '1540606479635341313.jpg', '1540576283540615170.jpg', '1540546084526665728.jpg', '1540515883864403968.jpg', '1540485684443500544.jpg', '1540455485458919424.jpg', '1540425286088396801.jpg', '1540395087657504768.jpg', '1540364888698023937.jpg', '1540334689465954304.jpg', '1540304490682691584.jpg', '1540274291060592642.jpg', '1540244092067622913.jpg', '1540213895691849728.jpg', '1540183696640159744.jpg', '1540153497286430720.jpg', '1540123297613942784.jpg', '1540093097723342848.jpg', '1540062899632099328.jpg', '1540032700806877184.jpg', '1540002500090114048.jpg', '1539972300765728769.jpg', '1539942101198090240.jpg', '1539911902163152896.jpg', '1539881702792626176.jpg', '1539851505783541760.jpg', '1539821306262171648.jpg', '1539791107323613185.jpg', '1539760908179673088.jpg', '1539730710541438976.jpg', '1539700511347052544.jpg', '1539670310277902336.jpg', '1539640114594193414.jpg', '1539609915471192065.jpg', '1539579716113289216.jpg', '1539549516994453504.jpg', '1539519316873207809.jpg', '1539489116844224513.jpg', '1539458917733785600.jpg', '1539428718187122688.jpg', '1539398519059992576.jpg', '1539368323300806656.jpg', '1539338124098039808.jpg', '1539307924719165445.jpg', '1539277725138944005.jpg', '1539247529002422274.jpg', '1539217328658710528.jpg', '1539187129929981952.jpg', '1539156929695494145.jpg', '1539126729637187584.jpg', '1539096534389776384.jpg', '1539066331860832257.jpg', '1539036132918185984.jpg', '1539005935078604800.jpg', '1538975734198198272.jpg', '1538945535251337218.jpg', '1538915338204553216.jpg', '1538885137655427073.jpg', '1538854937756508161.jpg', '1538824738180460544.jpg', '1538794543100723200.jpg', '1538764342170071040.jpg', '1538734143156015104.jpg', '1538703943814873090.jpg', '1538673744519917568.jpg', '1538643546026016768.jpg', '1538613347020439553.jpg', '1538583148363018240.jpg', '1538552949265182720.jpg', '1538522748514750464.jpg', '1538492549375045632.jpg', '1538462350172270592.jpg', '1538432155272982530.jpg', '1538401954656706560.jpg', '1538371755504390144.jpg', '1538341556431622144.jpg', '1538311357614788608.jpg', '1538281159196495872.jpg', '1538250960463532032.jpg', '1538220759536979970.jpg', '1538190559793192962.jpg', '1538160360389103616.jpg', '1538130161408675841.jpg', '1538099965893169152.jpg', '1538069765708972032.jpg', '1538039569781760000.jpg', '1538009368242683904.jpg', '1537979169178456065.jpg', '1537948969698897925.jpg', '1537918770508836870.jpg', '1537888571058638848.jpg', '1537858374099869697.jpg', '1537828174439911424.jpg', '1537797973626605568.jpg', '1537767774222622720.jpg', '1537737574738821121.jpg', '1537707379457830912.jpg', '1537677178967429122.jpg', '1537646979458576384.jpg', '1537616780503330816.jpg', '1537586581300576257.jpg', '1537556381070282752.jpg', '1537526181825720320.jpg', '1537511925277331456.jpg', '1537509824094687233.jpg', '1537496350752907264.jpg']\n"
     ]
    }
   ],
   "source": [
    "import os\n",
    "\n",
    "image_list_sorted = sorted(image_list, key=lambda x: os.path.getctime(x))\n",
    "\n",
    "print(image_list_sorted)\n"
   ]
  },
  {
   "cell_type": "code",
   "execution_count": 24,
   "id": "9aa45c7d",
   "metadata": {},
   "outputs": [],
   "source": [
    "new_image = []\n",
    "for i in range(len(image_list)):\n",
    "    if i % 4 == 0:\n",
    "        new_image.append(image_list[i])"
   ]
  },
  {
   "cell_type": "code",
   "execution_count": 25,
   "id": "7a9b49fa",
   "metadata": {},
   "outputs": [
    {
     "name": "stdout",
     "output_type": "stream",
     "text": [
      "Moviepy - Building video video_new3.mp4.\n",
      "Moviepy - Writing video video_new3.mp4\n",
      "\n"
     ]
    },
    {
     "name": "stderr",
     "output_type": "stream",
     "text": [
      "                                                                                                    \r"
     ]
    },
    {
     "name": "stdout",
     "output_type": "stream",
     "text": [
      "Moviepy - Done !\n",
      "Moviepy - video ready video_new3.mp4\n"
     ]
    }
   ],
   "source": [
    "\n",
    "\n",
    "\n",
    "\n",
    "clip = ImageSequenceClip(new_image, fps=20)\n",
    "\n",
    "\n",
    "clip.write_videofile('video_new3.mp4')"
   ]
  },
  {
   "cell_type": "code",
   "execution_count": null,
   "id": "cf02d730",
   "metadata": {},
   "outputs": [],
   "source": []
  },
  {
   "cell_type": "code",
   "execution_count": null,
   "id": "4a717ce5",
   "metadata": {},
   "outputs": [],
   "source": []
  },
  {
   "cell_type": "code",
   "execution_count": null,
   "id": "f76ca3a7",
   "metadata": {},
   "outputs": [],
   "source": []
  },
  {
   "cell_type": "code",
   "execution_count": null,
   "id": "63222b75",
   "metadata": {},
   "outputs": [],
   "source": []
  },
  {
   "cell_type": "code",
   "execution_count": 26,
   "id": "10192bf4",
   "metadata": {},
   "outputs": [
    {
     "name": "stdout",
     "output_type": "stream",
     "text": [
      "Moviepy - Building video video_with_audio.mp4.\n",
      "MoviePy - Writing audio in video_with_audioTEMP_MPY_wvf_snd.mp3\n"
     ]
    },
    {
     "name": "stderr",
     "output_type": "stream",
     "text": [
      "                                                                                                    \r"
     ]
    },
    {
     "name": "stdout",
     "output_type": "stream",
     "text": [
      "MoviePy - Done.\n",
      "Moviepy - Writing video video_with_audio.mp4\n",
      "\n"
     ]
    },
    {
     "name": "stderr",
     "output_type": "stream",
     "text": [
      "                                                                                                    \r"
     ]
    },
    {
     "name": "stdout",
     "output_type": "stream",
     "text": [
      "Moviepy - Done !\n",
      "Moviepy - video ready video_with_audio.mp4\n"
     ]
    }
   ],
   "source": [
    "from moviepy.editor import VideoFileClip, AudioFileClip\n",
    "\n",
    "\n",
    "clip = VideoFileClip('video_metade.mp4')\n",
    "\n",
    "audio = AudioFileClip('audio.mp3')\n",
    "\n",
    "clip_with_audio = clip.set_audio(audio)\n",
    "\n",
    "clip_with_audio.write_videofile('video_with_audio.mp4')"
   ]
  },
  {
   "cell_type": "code",
   "execution_count": 31,
   "id": "faaf5a15",
   "metadata": {},
   "outputs": [
    {
     "name": "stdout",
     "output_type": "stream",
     "text": [
      "Moviepy - Building video video_cropped.mp4.\n",
      "MoviePy - Writing audio in video_croppedTEMP_MPY_wvf_snd.mp3\n"
     ]
    },
    {
     "name": "stderr",
     "output_type": "stream",
     "text": [
      "                                                                                                    \r"
     ]
    },
    {
     "name": "stdout",
     "output_type": "stream",
     "text": [
      "MoviePy - Done.\n",
      "Moviepy - Writing video video_cropped.mp4\n",
      "\n"
     ]
    },
    {
     "name": "stderr",
     "output_type": "stream",
     "text": [
      "                                                                                                    \r"
     ]
    },
    {
     "name": "stdout",
     "output_type": "stream",
     "text": [
      "Moviepy - Done !\n",
      "Moviepy - video ready video_cropped.mp4\n"
     ]
    }
   ],
   "source": [
    "from moviepy.editor import VideoFileClip\n",
    "\n",
    "\n",
    "clip = VideoFileClip('video_with_audio.mp4')\n",
    "\n",
    "# Corte o vídeo até os 2 minutos e 30 segundos\n",
    "clip_cropped = clip.subclip(t_end=139)\n",
    "\n",
    "clip_cropped.write_videofile('video_cropped.mp4')"
   ]
  }
 ],
 "metadata": {
  "kernelspec": {
   "display_name": "Python 3 (ipykernel)",
   "language": "python",
   "name": "python3"
  },
  "language_info": {
   "codemirror_mode": {
    "name": "ipython",
    "version": 3
   },
   "file_extension": ".py",
   "mimetype": "text/x-python",
   "name": "python",
   "nbconvert_exporter": "python",
   "pygments_lexer": "ipython3",
   "version": "3.9.2"
  }
 },
 "nbformat": 4,
 "nbformat_minor": 5
}
